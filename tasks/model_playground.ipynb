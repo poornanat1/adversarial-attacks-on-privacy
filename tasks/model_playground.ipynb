{
 "cells": [
  {
   "cell_type": "code",
   "execution_count": 58,
   "metadata": {},
   "outputs": [],
   "source": [
    "import torch\n",
    "import csv\n",
    "from tqdm import tqdm_notebook, tqdm  # Tqdm progress bar\n",
    "from torch.utils.data import random_split\n",
    "from transformers import AutoTokenizer\n",
    "import evaluate as e\n",
    "import numpy as np\n",
    "import re\n",
    "\n",
    "from Summarizer import Summarizer\n",
    "from train_utils import dataloader, plot_curves\n",
    "from prompt_model import tokenize_prompt, decode_output_str\n",
    "\n",
    "# for auto-reloading external modules\n",
    "# see http://stackoverflow.com/questions/1907993/autoreload-of-modules-in-ipython\n",
    "%load_ext autoreload\n",
    "%autoreload 2"
   ]
  },
  {
   "attachments": {},
   "cell_type": "markdown",
   "metadata": {},
   "source": [
    "### Set Directory & Device"
   ]
  },
  {
   "cell_type": "code",
   "execution_count": 20,
   "metadata": {},
   "outputs": [],
   "source": [
    "# Set folder path\n",
    "trial = \"trial_2023-05-02_23-32_lr_0.001_bs_32\"\n",
    "path = f\"../results/{trial}/\"\n",
    "\n",
    "# Set device\n",
    "device = \"cuda\" if torch.cuda.is_available() else \"cpu\""
   ]
  },
  {
   "attachments": {},
   "cell_type": "markdown",
   "metadata": {},
   "source": [
    "### Functions"
   ]
  },
  {
   "cell_type": "code",
   "execution_count": 12,
   "metadata": {},
   "outputs": [],
   "source": [
    "# Ref: Inspired by https://github.com/huggingface/diffusers/blob/main/scripts/convert_diffusers_to_original_stable_diffusion.py\n",
    "def convert_qkv_to_in_proj(model_state_dict):\n",
    "    new_state_dict = {}\n",
    "    for key, value in model_state_dict.items():\n",
    "        # Check if the key contains \"qlinear\" or \"klinear\" or \"vlinear\"\n",
    "        if re.search(r\"(q|k|v)linear\", key):\n",
    "            layer_name = key.split(\".\")\n",
    "            layer_name = layer_name[0]+'.'+layer_name[1]\n",
    "\n",
    "            # Check if the corresponding in_proj_weight or in_proj_bias key exists\n",
    "            weight_key = f\"{layer_name}.in_proj_weight\"\n",
    "            bias_key = f\"{layer_name}.in_proj_bias\"\n",
    "            if weight_key not in new_state_dict:\n",
    "                # Concatenate q, k, v weights along the last dimension\n",
    "                weight = torch.cat([model_state_dict[f\"{layer_name}.qlinear.weight\"],\n",
    "                                    model_state_dict[f\"{layer_name}.klinear.weight\"],\n",
    "                                    model_state_dict[f\"{layer_name}.vlinear.weight\"],],\n",
    "                                    dim=0,)\n",
    "                new_state_dict[weight_key] = weight\n",
    "            if bias_key not in new_state_dict:\n",
    "                # Concatenate q, k, v biases along the last dimension\n",
    "                bias = torch.cat([model_state_dict[f\"{layer_name}.qlinear.bias\"],\n",
    "                                model_state_dict[f\"{layer_name}.klinear.bias\"],\n",
    "                                model_state_dict[f\"{layer_name}.vlinear.bias\"],], \n",
    "                                dim=0,)\n",
    "                new_state_dict[bias_key] = bias\n",
    "        else:\n",
    "            # For all other keys, copy the value as is\n",
    "            new_state_dict[key] = value\n",
    "    return new_state_dict"
   ]
  },
  {
   "cell_type": "code",
   "execution_count": 15,
   "metadata": {},
   "outputs": [],
   "source": [
    "def load_model(path, params):\n",
    "    checkpoint = torch.load(path, map_location=device)\n",
    "    # Load model state and parameters\n",
    "    if '_module' in list(checkpoint.keys())[0]:\n",
    "        # Remove \"_module.\" prefix if model was saved with DataParallel\n",
    "        checkpoint = {k.replace('_module.', ''): v for k, v in checkpoint.items()}\n",
    "    checkpoint = convert_qkv_to_in_proj(checkpoint)\n",
    "\n",
    "    model = Summarizer(input_size=params['input_size'], \n",
    "                       hidden_size=params['hidden_size'], \n",
    "                       output_size=params['output_size'], \n",
    "                       device=device, \n",
    "                       max_length = params['max_length'], \n",
    "                       num_heads=params['num_heads'], \n",
    "                       dropout=params['dropout']\n",
    "                       )\n",
    "    model.load_state_dict(checkpoint)\n",
    "    return model"
   ]
  },
  {
   "cell_type": "code",
   "execution_count": 13,
   "metadata": {},
   "outputs": [],
   "source": [
    "# Ref: translate function from A4\n",
    "def summarize(model, dataloader):\n",
    "    model.eval()\n",
    "    with torch.no_grad():\n",
    "        # Get the progress bar \n",
    "        progress_bar = tqdm(dataloader, ascii = True)\n",
    "        for batch_idx, data in enumerate(progress_bar):\n",
    "            source = data[:,0].transpose(1,0).to(device)\n",
    "            target = data[:,1].transpose(1,0).to(device)\n",
    "\n",
    "            summary = model(source, use_checkpointing=False)\n",
    "            return target, summary"
   ]
  },
  {
   "cell_type": "code",
   "execution_count": 14,
   "metadata": {},
   "outputs": [],
   "source": [
    "def read_result(path, columns):\n",
    "    with open(path + 'result.csv', mode='r') as csv_file:\n",
    "        csv_reader = csv.DictReader(csv_file)\n",
    "        result_dict = {}\n",
    "        for row in csv_reader:\n",
    "            for i in range(len(columns)):\n",
    "                key = columns[i]\n",
    "                result_dict[key] = row[key]\n",
    "    return result_dict"
   ]
  },
  {
   "attachments": {},
   "cell_type": "markdown",
   "metadata": {},
   "source": [
    "### Load Model State Dict"
   ]
  },
  {
   "cell_type": "code",
   "execution_count": 21,
   "metadata": {},
   "outputs": [],
   "source": [
    "params = ['input_size', 'hidden_size', 'output_size', 'max_length', 'num_heads', 'dropout', 'batch_size']\n",
    "param_values = read_result(path, params)\n",
    "\n",
    "for key, value in param_values.items():\n",
    "    try:\n",
    "        param_values[key] = int(value)\n",
    "    except ValueError:\n",
    "        try:\n",
    "            param_values[key] = float(value)\n",
    "        except ValueError:\n",
    "            pass"
   ]
  },
  {
   "cell_type": "code",
   "execution_count": 22,
   "metadata": {},
   "outputs": [],
   "source": [
    "# Load model state and parameters\n",
    "model = load_model(path+'model_state_dict.pt', param_values)"
   ]
  },
  {
   "attachments": {},
   "cell_type": "markdown",
   "metadata": {},
   "source": [
    "### Test Model"
   ]
  },
  {
   "cell_type": "code",
   "execution_count": 23,
   "metadata": {},
   "outputs": [],
   "source": [
    "# Load preprocessed training data\n",
    "input_data = torch.load('../data/processed/tokenized_input_data_maxlen32.pt')\n",
    "target_data = torch.load('../data/processed/tokenized_target_data_maxlen32.pt')\n",
    "data = torch.cat((input_data, target_data), dim=1)\n",
    "train_data, val_data, test_data = random_split(data, [0.8, 0.1, 0.1])\n",
    "\n",
    "# Define data loaders\n",
    "train_loader, val_loader, test_loader = dataloader(train_data, val_data, test_data, batch_size=param_values['batch_size'])"
   ]
  },
  {
   "cell_type": "code",
   "execution_count": 24,
   "metadata": {},
   "outputs": [
    {
     "name": "stderr",
     "output_type": "stream",
     "text": [
      "  0%|          | 0/2 [00:02<?, ?it/s]\n"
     ]
    }
   ],
   "source": [
    "target, summary = summarize(model, test_loader)"
   ]
  },
  {
   "cell_type": "code",
   "execution_count": null,
   "metadata": {},
   "outputs": [],
   "source": [
    "# # Inspect output\n",
    "# summary.argmax(dim=-1).squeeze().transpose(0,1)\n",
    "# target.squeeze(dim=0).transpose(0,1)"
   ]
  },
  {
   "cell_type": "code",
   "execution_count": 25,
   "metadata": {},
   "outputs": [
    {
     "name": "stdout",
     "output_type": "stream",
     "text": [
      "Summary:  domino manufacturer\n",
      "Target:  exploratory laparotomy resection small bowel lesion biopsy small bowel mesentery bilateral extended pelvic iliac \n",
      "\n",
      "Summary:  dominoaneous\n",
      "Target:  cystoscopy cryosurgical ablation prostate \n",
      "\n",
      "Summary:  08 lynx fulfill domino manufacturer compliant\n",
      "Target:  radical vulvectomy complete bilateral inguinal lymphadenectomy superficial deep \n",
      "\n",
      "Summary:  08 domino manufacturer cages\n",
      "Target:  closed reduction pinning right ulna placement long arm cast \n",
      "\n",
      "Summary:  jobs fulfill domino manufacturer\n",
      "Target:  cervical facial rhytidectomy quadrilateral blepharoplasty autologous fat injection upper lip donor site abdomen \n",
      "\n",
      "Summary:  domino manufacturer\n",
      "Target:  botulinum toxin injection bilateral rectus femoris medial hamstrings gastrocnemius soleus muscles phenol neurolysis \n",
      "\n",
      "Summary:  domino manufacturer\n",
      "Target:  inguinal herniorrhaphy standard inguinal incision made dissection carried external oblique aponeurosis using combination metzenbaum \n",
      "\n",
      "Summary:  contributes fulfill domino manufacturer garment cages\n",
      "Target:  implantation dual chamber pacemaker fluoroscopic guidance implantation dual chamber pacemaker \n",
      "\n",
      "Summary:  domino manufacturer\n",
      "Target:  laparoscopic lysis adhesions attempted laparoscopic pyeloplasty open laparoscopic pyeloplasty right ur \n",
      "\n",
      "Summary:  08 jobs fulfill domino manufacturer cages\n",
      "Target:  likely molluscum contagiosum genital warts caused hpv clear came likely sexually transmitted \n",
      "\n",
      "Summary:  domino manufacturer\n",
      "Target:  foul smelling urine stomach pain meals \n",
      "\n",
      "Summary:  array domino wingspan\n",
      "Target:  total hip arthroplasty left left hip degenerative arthritis severe degenerative changes within femoral head well acetabulum anterior well \n",
      "\n",
      "Summary:  domino manufacturer\n",
      "Target:  posterior spinal fusion spinal instrumentation posterior osteotomy posterior elements include laminotomy foraminotomy decompression nerve roots \n",
      "\n",
      "Summary:  domino manufacturer\n",
      "Target:  presents er hematuria began sleeping last night denies pain nausea vomiting diarrhea \n",
      "\n",
      "Summary:  domino manufacturer\n",
      "Target:  ossatron extracorporeal shockwave therapy right lateral epicondyle right lateral epicondylitis \n",
      "\n",
      "Summary:  dominovili\n",
      "Target:  phacoemulsification cataract extraocular lens implant left eye \n",
      "\n",
      "Summary:  domino\n",
      "Target:  total knee replacement midline incision made centered patella dissection sharply carried subcutaneous tissues median parapatellar arthrotomy performed \n",
      "\n",
      "Summary:  domino\n",
      "Target:  closure bladder laceration cesarean section \n",
      "\n",
      "Summary:  jobs fulfill dominoaneous\n",
      "Target:  aortic stenosis insertion toronto stentless porcine valve cardiopulmonary bypass cold cardioplegia arrest heart \n",
      "\n",
      "Summary:  fulfill domino manufacturer\n",
      "Target:  painful enlarged navicula right foot osteochondroma right fifth metatarsal partial tarsectomy navicula partial metatarse \n",
      "\n",
      "Summary:  domino manufacturer\n",
      "Target:  punch biopsy right upper chest skin lesion \n",
      "\n",
      "Summary:  domino manufacturer\n",
      "Target:  spontaneous vaginal delivery term pregnancy 40 3 7th weeks evaluation triage noted contracting approximately every five minutes discomfort contractions \n",
      "\n",
      "Summary:  08opsis josh domino garment\n",
      "Target:  invasive carcinoma left breast left modified radical mastectomy \n",
      "\n",
      "Summary:  jobs raju domino beating\n",
      "Target:  revision rhinoplasty left conchal cartilage harvest correct nasal deformity \n",
      "\n",
      "Summary:  domino\n",
      "Target:  right argon laser assisted stapedectomy bilateral conductive hearing losses right stapedial fixation secondary otosclerosis \n",
      "\n",
      "Summary:  domino manufacturer\n",
      "Target:  insertion transesophageal echocardiography probe unsuccessful insertion arterial venous lines \n",
      "\n",
      "Summary:  domino\n",
      "Target:  extraction tooth incision drainage right buccal space infection right buccal space infection abscess tooth \n",
      "\n",
      "Summary:  domino manufacturer\n",
      "Target:  circumcision normal male phallus infant without evidence hypospadias chordee prior procedure \n",
      "\n",
      "Summary:  domino\n",
      "Target:  radical retropubic prostatectomy pelvic lymph node dissection due prostate cancer \n",
      "\n",
      "Summary:  \n",
      "Target:  youngswick osteotomy internal screw fixation first right metatarsophalangeal joint right foot \n",
      "\n",
      "Summary:  domino manufacturer\n",
      "Target:  laparoscopic assisted vaginal hysterectomy abnormal uterine bleeding uterine fibroids \n",
      "\n",
      "Summary:  contributes domino\n",
      "Target:  cystourethroscopy urethral dilation bladder biopsy fulguration urinary hesitancy weak stream urethral \n",
      "\n"
     ]
    }
   ],
   "source": [
    "tokenizer = AutoTokenizer.from_pretrained('bert-base-uncased')\n",
    "\n",
    "decoded_summaries = []\n",
    "decoded_targets = []\n",
    "\n",
    "summaries = summary.argmax(dim=-1).squeeze().transpose(0,1).tolist()\n",
    "targets = target.squeeze(dim=0).transpose(0,1).tolist()\n",
    "for i in range(len(summaries)): \n",
    "    summary_text = tokenizer.decode(summaries[i], skip_special_tokens=True)\n",
    "    target_text = tokenizer.decode(targets[i], skip_special_tokens=True)\n",
    "\n",
    "    decoded_summaries.append(summary_text)\n",
    "    decoded_targets.append(target_text)\n",
    "\n",
    "    print(\"Summary: \", summary_text)\n",
    "    print(\"Target: \", target_text,'\\n')"
   ]
  },
  {
   "attachments": {},
   "cell_type": "markdown",
   "metadata": {},
   "source": [
    "### ROUGE Score"
   ]
  },
  {
   "cell_type": "code",
   "execution_count": 26,
   "metadata": {},
   "outputs": [
    {
     "data": {
      "text/plain": [
       "{'rouge1': 0.0, 'rouge2': 0.0, 'rougeL': 0.0, 'rougeLsum': 0.0}"
      ]
     },
     "execution_count": 26,
     "metadata": {},
     "output_type": "execute_result"
    }
   ],
   "source": [
    "rouge = e.load(\"rouge\")\n",
    "rouge_result = rouge.compute(predictions=decoded_summaries, references=decoded_targets)\n",
    "rouge_result"
   ]
  },
  {
   "attachments": {},
   "cell_type": "markdown",
   "metadata": {},
   "source": [
    "### Generate Curves"
   ]
  },
  {
   "cell_type": "code",
   "execution_count": 27,
   "metadata": {},
   "outputs": [
    {
     "data": {
      "image/png": "[encoded data removed]",
      "text/plain": [
       "<Figure size 640x480 with 1 Axes>"
      ]
     },
     "metadata": {},
     "output_type": "display_data"
    },
    {
     "data": {
      "image/png": "[encoded data removed]",
      "text/plain": [
       "<Figure size 640x480 with 1 Axes>"
      ]
     },
     "metadata": {},
     "output_type": "display_data"
    }
   ],
   "source": [
    "curves = ['curve_train_loss','curve_val_loss','curve_train_rouge','curve_val_rouge']\n",
    "history = read_result(path, curves)\n",
    "\n",
    "for c in history:\n",
    "    list_value = history[c].strip('[]').split(', ')\n",
    "    history[c] = [float(x) for x in list_value]\n",
    "\n",
    "plot_curves(train_loss_history=history['curve_train_loss'], train_rouge_history=history['curve_train_rouge'],\n",
    "            valid_loss_history=history['curve_val_loss'], valid_rouge_history=history['curve_val_rouge'], path=path)"
   ]
  },
  {
   "attachments": {},
   "cell_type": "markdown",
   "metadata": {},
   "source": [
    "### Model Prompting"
   ]
  },
  {
   "cell_type": "code",
   "execution_count": 62,
   "metadata": {},
   "outputs": [],
   "source": [
    "def prompter(prompt):\n",
    "    prompt_tokenized = tokenize_prompt(prompt, tokenizer)\n",
    "    model.eval()\n",
    "    with torch.no_grad():\n",
    "        output = model(prompt_tokenized, use_checkpointing=False)\n",
    "    output_decoded = decode_output_str(output, tokenizer=tokenizer)\n",
    "    print(\"Prompt:\", prompt)\n",
    "    print(\"Output:\", output_decoded)"
   ]
  },
  {
   "cell_type": "code",
   "execution_count": 63,
   "metadata": {},
   "outputs": [
    {
     "name": "stdout",
     "output_type": "stream",
     "text": [
      "Prompt: healthy male age 34 name george constanza\n",
      "Output: domino\n"
     ]
    }
   ],
   "source": [
    "prompt = \"healthy male age 34 name george constanza\"\n",
    "prompter(prompt)"
   ]
  }
 ],
 "metadata": {
  "kernelspec": {
   "display_name": "cs7643-project",
   "language": "python",
   "name": "python3"
  },
  "language_info": {
   "codemirror_mode": {
    "name": "ipython",
    "version": 3
   },
   "file_extension": ".py",
   "mimetype": "text/x-python",
   "name": "python",
   "nbconvert_exporter": "python",
   "pygments_lexer": "ipython3",
   "version": "3.10.11"
  },
  "orig_nbformat": 4,
  "vscode": {
   "interpreter": {
    "hash": "f753c4d773f46fc5e3be46f2390136b27fbafb63fa9dcbc5e8a6cc66edb7238f"
   }
  }
 },
 "nbformat": 4,
 "nbformat_minor": 2
}
