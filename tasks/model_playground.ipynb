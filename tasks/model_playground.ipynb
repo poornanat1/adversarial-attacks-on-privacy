{
 "cells": [
  {
   "cell_type": "code",
   "execution_count": 1,
   "metadata": {},
   "outputs": [
    {
     "name": "stderr",
     "output_type": "stream",
     "text": [
      "/Users/jenny/opt/anaconda3/envs/cs7643-project/lib/python3.10/site-packages/tqdm/auto.py:21: TqdmWarning: IProgress not found. Please update jupyter and ipywidgets. See https://ipywidgets.readthedocs.io/en/stable/user_install.html\n",
      "  from .autonotebook import tqdm as notebook_tqdm\n"
     ]
    }
   ],
   "source": [
    "import torch\n",
    "import csv\n",
    "from tqdm import tqdm_notebook, tqdm  # Tqdm progress bar\n",
    "from torch.utils.data import random_split\n",
    "from transformers import AutoTokenizer\n",
    "import evaluate as e\n",
    "import numpy as np\n",
    "\n",
    "from Summarizer import Summarizer\n",
    "from train_utils import dataloader, plot_curves"
   ]
  },
  {
   "attachments": {},
   "cell_type": "markdown",
   "metadata": {},
   "source": [
    "### Set Directory & Device"
   ]
  },
  {
   "cell_type": "code",
   "execution_count": 2,
   "metadata": {},
   "outputs": [],
   "source": [
    "# Set folder path\n",
    "trial = \"trial_2023-04-28_13-58_lr_0.001_bs_128\"\n",
    "path = f\"../results/{trial}/\"\n",
    "\n",
    "# Set device\n",
    "device = torch.device('cuda' if torch.cuda.is_available() else 'cpu')"
   ]
  },
  {
   "attachments": {},
   "cell_type": "markdown",
   "metadata": {},
   "source": [
    "### Functions"
   ]
  },
  {
   "cell_type": "code",
   "execution_count": 15,
   "metadata": {},
   "outputs": [],
   "source": [
    "def load_model(path, params):\n",
    "    checkpoint = torch.load(path)\n",
    "    model = Summarizer(input_size=params['input_size'], \n",
    "                       hidden_size=params['hidden_size'], \n",
    "                       output_size=params['output_size'], \n",
    "                       device=device, \n",
    "                       max_length = params['max_length'], \n",
    "                       num_heads=params['num_heads'], \n",
    "                       dropout=params['dropout']\n",
    "                       )\n",
    "    model.load_state_dict(checkpoint)\n",
    "    return model"
   ]
  },
  {
   "cell_type": "code",
   "execution_count": 18,
   "metadata": {},
   "outputs": [],
   "source": [
    "# Ref: translate function from A4\n",
    "def summarize(model, dataloader):\n",
    "    model.eval()\n",
    "    with torch.no_grad():\n",
    "        # Get the progress bar \n",
    "        progress_bar = tqdm(dataloader, ascii = True)\n",
    "        for batch_idx, data in enumerate(progress_bar):\n",
    "            source = data[:,0].transpose(1,0).to(device)\n",
    "            target = data[:,1].transpose(1,0).to(device)\n",
    "\n",
    "            summary = model(source, use_checkpointing=False)\n",
    "            return target, summary"
   ]
  },
  {
   "cell_type": "code",
   "execution_count": 6,
   "metadata": {},
   "outputs": [],
   "source": [
    "def read_result(path, columns):\n",
    "    with open(path + 'result.csv', mode='r') as csv_file:\n",
    "        csv_reader = csv.DictReader(csv_file)\n",
    "        result_dict = {}\n",
    "        for row in csv_reader:\n",
    "            for i in range(len(columns)):\n",
    "                key = columns[i]\n",
    "                result_dict[key] = row[key]\n",
    "    return result_dict"
   ]
  },
  {
   "attachments": {},
   "cell_type": "markdown",
   "metadata": {},
   "source": [
    "### Load Model State Dict"
   ]
  },
  {
   "cell_type": "code",
   "execution_count": 7,
   "metadata": {},
   "outputs": [],
   "source": [
    "params = ['input_size', 'hidden_size', 'output_size', 'max_length', 'num_heads', 'dropout', 'batch_size']\n",
    "param_values = read_result(path, params)\n",
    "\n",
    "for key, value in param_values.items():\n",
    "    try:\n",
    "        param_values[key] = int(value)\n",
    "    except ValueError:\n",
    "        try:\n",
    "            param_values[key] = float(value)\n",
    "        except ValueError:\n",
    "            pass"
   ]
  },
  {
   "cell_type": "code",
   "execution_count": 16,
   "metadata": {},
   "outputs": [],
   "source": [
    "# Load model state and parameters\n",
    "model = load_model(path+'model_state_dict.pt', param_values)"
   ]
  },
  {
   "attachments": {},
   "cell_type": "markdown",
   "metadata": {},
   "source": [
    "### Test Model"
   ]
  },
  {
   "cell_type": "code",
   "execution_count": 21,
   "metadata": {},
   "outputs": [],
   "source": [
    "# Load preprocessed training data\n",
    "input_data = torch.load('../data/processed/tokenized_input_data_maxlen32.pt')\n",
    "target_data = torch.load('../data/processed/tokenized_target_data_maxlen32.pt')\n",
    "data = torch.cat((input_data, target_data), dim=1)\n",
    "train_data, val_data, test_data = random_split(data, [0.8, 0.1, 0.1])\n",
    "\n",
    "# Define data loaders\n",
    "train_loader, val_loader, test_loader = dataloader(train_data, val_data, test_data, batch_size=param_values['batch_size'])"
   ]
  },
  {
   "cell_type": "code",
   "execution_count": 22,
   "metadata": {},
   "outputs": [
    {
     "name": "stderr",
     "output_type": "stream",
     "text": [
      "  0%|          | 0/1 [00:06<?, ?it/s]\n"
     ]
    }
   ],
   "source": [
    "target, summary = summarize(model, test_loader)"
   ]
  },
  {
   "cell_type": "code",
   "execution_count": null,
   "metadata": {},
   "outputs": [],
   "source": [
    "# # Inspect output\n",
    "# summary.argmax(dim=-1).squeeze().transpose(0,1)\n",
    "# target.squeeze(dim=0).transpose(0,1)"
   ]
  },
  {
   "cell_type": "code",
   "execution_count": 24,
   "metadata": {},
   "outputs": [
    {
     "name": "stdout",
     "output_type": "stream",
     "text": [
      "Summary:  tonssto internalomyomyomy\n",
      "Target:  squamous cell carcinoma right temporal bone middle ear space right temporal bone resection rectus abdominis myocutaneous free flap \n",
      "\n",
      "Summary:  tonsstoosomyomy made\n",
      "Target:  trigger thumb release transverse incision made mpj crease thumb dissection carried flexor sheath care taken identify protect neurovascular bundles \n",
      "\n",
      "Summary:  right inguin fix hernia right rightuins\n",
      "Target:  9 year old boy history intermittent swelling right inguinal area consistent right inguinal hernia taken operating room inguinal hernia repair \n",
      "\n",
      "Summary:  cystoscoomy transomy\n",
      "Target:  patient hematuria unable void patient foley catheter urethra possibly inflated prostatic urethra removed \n",
      "\n",
      "Summary:  tonsille internal fix heromyomy\n",
      "Target:  bilateral inguinal hernia bilateral hydrocele repair ilioinguinal nerve block bilaterally \n",
      "\n",
      "Summary:  rightaroum fixl right right rights\n",
      "Target:  insertion right brachial artery arterial catheter right subclavian vein triple lumen catheter hyperpyrexia leukocytosis \n",
      "\n",
      "Summary:  tonsstoscoomyomyomy\n",
      "Target:  tracheostomy skin flaps scoop procedure fasttract oxygen dependency approximately 5 liters nasal cannula home chronic obstructive pulmonary disease \n",
      "\n",
      "Summary:  cystoemomy trans prostate\n",
      "Target:  closure gastrostomy placed due feeding difficulties \n",
      "\n",
      "Summary:  tonssto internalomyomyomy\n",
      "Target:  excision dorsal wrist ganglion made transverse incision directly ganglion dissection carried extensor retinaculum identifying 3rd 4th compartments retra \n",
      "\n",
      "Summary:  right right right right right right right right right right right right right right right right right\n",
      "Target:  right total knee arthroplasty osteoarthritis right knee \n",
      "\n",
      "Summary:  rightaro internal fix her right right rights\n",
      "Target:  repeat irrigation debridement right distal femoral subperiosteal abscess \n",
      "\n",
      "Summary:  cystorcomyomyomy\n",
      "Target:  tonsillectomy tonsillitis mcivor mouth gag placed oral cavity tongue depressor applied \n",
      "\n",
      "Summary:  tonsilleosomy aden prostateomyomyoca\n",
      "Target:  bilateral endoscopic proximal shunt revision distal shunt revision \n",
      "\n",
      "Summary:  rightsto internalpyification\n",
      "Target:  thromboendarterectomy right common external internal carotid artery utilizing internal shunt dacron patch angioplasty closure \n",
      "\n",
      "Summary:  total abdominalosomyereoidth\n",
      "Target:  radioactive plaque macular edema removal radioactive plaque right eye lateral canthotomy lid speculum applied conjunctiva opened 4 mm limbus 2 \n",
      "\n",
      "Summary:  totalstoosomyomyomy\n",
      "Target:  vasectomy 10 years ago failed azoospermic reversal two years ago interested sperm harvesting cryopreservation \n",
      "\n",
      "Summary:  leftsto internal fixgram left left left left left left left lefthore left\n",
      "Target:  total thyroidectomy removal substernal extension left thyroid goiter substernal extension left \n",
      "\n",
      "Summary:  tonsstoemomyificationomy\n",
      "Target:  ligation clip interruption patent ductus arteriosus premature baby operative weight 600 grams evidence persistent pulmonary circulation failure thrive diagnosed large patent ductus arteriosus \n",
      "\n",
      "Summary:  tonsstoemomyificationomy\n",
      "Target:  bassini inguinal herniorrhaphy standard inguinal incision made dissection carried external oblique aponeurosis using combination metz \n",
      "\n",
      "Summary:  cystoemomyereomy\n",
      "Target:  cystopyelogram laser vaporization prostate \n",
      "\n",
      "Summary:  tonsille internal fix heromyomy\n",
      "Target:  posterior spinal fusion spinal instrumentation posterior osteotomy posterior elements include laminotomy foraminotomy decompression nerve roots \n",
      "\n",
      "Summary:  cystoosomyomy prostateomy\n",
      "Target:  reduction paraphimosis \n",
      "\n",
      "Summary:  leftsto internal fix left leftile left left left left left left lefthore left\n",
      "Target:  total hip arthroplasty left left hip degenerative arthritis severe degenerative changes within femoral head well acetabulum anterior well \n",
      "\n",
      "Summary:  cystoosomyomyomy\n",
      "Target:  vitrectomy general anesthesia \n",
      "\n",
      "Summary:  tonsstoosomy an penect\n",
      "Target:  endoscopic third ventriculostomy \n",
      "\n",
      "Summary:  cystoempyificationomy\n",
      "Target:  phacoemulsification posterior chamber intraocular lens sample template \n",
      "\n",
      "Summary:  cystoemomyomyomy\n",
      "Target:  transurethral resection bladder tumor turbt large \n",
      "\n",
      "Summary:  cycisionrccisioncision\n",
      "Target:  patient 16 month old boy circumcision performed approximately 4 days developed penile swelling fever discharge \n",
      "\n",
      "Summary:  leftsto internal fix left leftect left left left left left left left left left\n",
      "Target:  left testicular swelling one day testicular ultrasound hypervascularity left epididymis compatible left epididymitis bilateral hydroceles \n",
      "\n",
      "Summary:  tonsrcrcomyomyomyomy\n",
      "Target:  cervical facial rhytidectomy quadrilateral blepharoplasty autologous fat injection upper lip donor site abdomen \n",
      "\n",
      "Summary:  cystorcomyomyomy\n",
      "Target:  circumcision older person \n",
      "\n",
      "Summary:  cystoemulsification cat cat\n",
      "Target:  visually significant cataract left eye phacoemulsification cataract extraction intraocular lens implantation left eye patient found visually significant catara \n",
      "\n",
      "Summary:  rightstoumpyification\n",
      "Target:  excision right superior parathyroid adenoma seen sestamibi parathyroid scan ultrasound \n",
      "\n",
      "Summary:  open abdominal internal fix her right right right\n",
      "Target:  open reduction internal fixation right distal radius fracture intraarticular four piece fracture right carpal tunnel release \n",
      "\n",
      "Summary:  cystoosomyomyomy\n",
      "Target:  cataract right eye phacoemulsification intraocular lens placement right eye \n",
      "\n",
      "Summary:  cystoemomyomyomy\n",
      "Target:  total thyroidectomy patient female history graves disease suppression attempted however unsuccessful presents today thyroid goiter \n",
      "\n",
      "Summary:  cystoscoomyification leftomy\n",
      "Target:  true cut needle biopsy breast 65 year old female exam noted dimpling puckering skin associated nipple discharge exam noticeable carcinoma left breast dimpling puck \n",
      "\n",
      "Summary:  tonssto internalomyomyomyomy\n",
      "Target:  placement port cath fluoroscopic guidancein patient anal cancer \n",
      "\n",
      "Summary:  left inguinal herniaalniaaluinal leftnia leftalal her left\n",
      "Target:  left direct indirect inguinal hernia repair left inguinal hernia prolene mesh patient found left inguinal hernia increasing past several months \n",
      "\n",
      "Summary:  cystoemomy adenoidomy\n",
      "Target:  cataract extraction via phacoemulsification posterior chamber intraocular lens implantation alcon ma30ba lens used lid speculum placed right \n",
      "\n",
      "Summary:  rightaroos fix heroid right right rightss\n",
      "Target:  ventriculoperitoneal shunt revision replacement ventricular catheter flushing distal end \n",
      "\n",
      "Summary:  tonsstoemomyificationomy\n",
      "Target:  prostate gland showing moderately differentiated infiltrating adenocarcinoma excised prostate including capsule pelvic lymph nodes seminal vesic \n",
      "\n",
      "Summary:  cyrcrccision transomy\n",
      "Target:  moderate poorly differentiated adenocarcinoma right lobe poorly differentiated tubular adenocarcinoma left lobe prostate \n",
      "\n",
      "Summary:  tonsille internalomyomyomyomy\n",
      "Target:  hawkins iv talus fracture open reduction internal fixation talus medial malleolus osteotomy repair deltoid ligament \n",
      "\n",
      "Summary:  cystoosomyomyomy\n",
      "Target:  septoplasty partial inferior middle turbinectomy ktp laser sinus endoscopy maxillary antrostomies removal tissue septoplas \n",
      "\n",
      "Summary:  cystoscocisionification prostateomy\n",
      "Target:  persistent frequency urgency patient history neurogenic bladder history stroke \n",
      "\n",
      "Summary:  tons endosomy adenoidects\n",
      "Target:  total abdominal hysterectomy bilateral salpingo oophorectomy \n",
      "\n"
     ]
    }
   ],
   "source": [
    "tokenizer = AutoTokenizer.from_pretrained('bert-base-uncased')\n",
    "\n",
    "decoded_summaries = []\n",
    "decoded_targets = []\n",
    "\n",
    "summaries = summary.argmax(dim=-1).squeeze().transpose(0,1).tolist()\n",
    "summaries = np.array(summaries, dtype=np.int64)\n",
    "targets = target.squeeze(dim=0).transpose(0,1).tolist()\n",
    "targets = np.array(targets, dtype=np.int64)\n",
    "for i in range(len(summaries)): \n",
    "    summary_text = tokenizer.decode(summaries[i], skip_special_tokens=True)\n",
    "    target_text = tokenizer.decode(targets[i], skip_special_tokens=True)\n",
    "\n",
    "    decoded_summaries.append(summary_text)\n",
    "    decoded_targets.append(target_text)\n",
    "\n",
    "    print(\"Summary: \", summary_text)\n",
    "    print(\"Target: \", target_text,'\\n')"
   ]
  },
  {
   "attachments": {},
   "cell_type": "markdown",
   "metadata": {},
   "source": [
    "### ROUGE Score"
   ]
  },
  {
   "cell_type": "code",
   "execution_count": 91,
   "metadata": {},
   "outputs": [
    {
     "data": {
      "text/plain": [
       "{'rouge1': 0.03318201764316473,\n",
       " 'rouge2': 0.0,\n",
       " 'rougeL': 0.03345230015722737,\n",
       " 'rougeLsum': 0.03325964035747861}"
      ]
     },
     "execution_count": 91,
     "metadata": {},
     "output_type": "execute_result"
    }
   ],
   "source": [
    "rouge = e.load(\"rouge\")\n",
    "rouge_result = rouge.compute(predictions=decoded_summaries, references=decoded_targets)\n",
    "rouge_result"
   ]
  },
  {
   "attachments": {},
   "cell_type": "markdown",
   "metadata": {},
   "source": [
    "### Generate Curves"
   ]
  },
  {
   "cell_type": "code",
   "execution_count": 7,
   "metadata": {},
   "outputs": [
    {
     "data": {
      "image/png": "[encoded data removed]",
      "text/plain": [
       "<Figure size 640x480 with 1 Axes>"
      ]
     },
     "metadata": {},
     "output_type": "display_data"
    },
    {
     "data": {
      "image/png": "[encoded data removed]",
      "text/plain": [
       "<Figure size 640x480 with 1 Axes>"
      ]
     },
     "metadata": {},
     "output_type": "display_data"
    }
   ],
   "source": [
    "curves = ['curve_train_loss','curve_val_loss','curve_train_rouge','curve_val_rouge']\n",
    "history = read_result(path, curves)\n",
    "\n",
    "for c in history:\n",
    "    list_value = history[c].strip('[]').split(', ')\n",
    "    history[c] = [float(x) for x in list_value]\n",
    "\n",
    "plot_curves(train_loss_history=history['curve_train_loss'], train_rouge_history=history['curve_train_rouge'],\n",
    "            valid_loss_history=history['curve_val_loss'], valid_rouge_history=history['curve_val_rouge'], path=path)"
   ]
  },
  {
   "attachments": {},
   "cell_type": "markdown",
   "metadata": {},
   "source": [
    "### Model Prompting"
   ]
  },
  {
   "attachments": {},
   "cell_type": "markdown",
   "metadata": {},
   "source": [
    "# Modify the following to be able to query the model ad-hoc and/or at scale\n",
    "\n",
    "# Load preprocessed training data\n",
    "input_data = torch.load('../data/processed/tokenized_input_data.pt')\n",
    "target_data = torch.load('../data/processed/tokenized_target_data.pt')\n",
    "data = torch.cat((input_data, target_data), dim=1)\n",
    "train_data, val_data, test_data = random_split(data, [0.8, 0.1, 0.1])\n",
    "\n",
    "# Define data loaders\n",
    "train_loader, val_loader, test_loader = dataloader(train_data, val_data, test_data, batch_size=param_values['batch_size'])\n",
    "\n",
    "target, summary = summarize(model, test_loader)\n",
    "\n",
    "tokenizer = AutoTokenizer.from_pretrained('bert-base-uncased')\n",
    "\n",
    "decoded_summaries = []\n",
    "decoded_targets = []\n",
    "\n",
    "summaries = summary.argmax(dim=-1).squeeze().transpose(0,1).tolist()\n",
    "targets = target.squeeze(dim=0).transpose(0,1).tolist()\n",
    "for i in range(len(summaries)): \n",
    "    summary_text = tokenizer.decode(summaries[i], skip_special_tokens=True)\n",
    "    target_text = tokenizer.decode(targets[i], skip_special_tokens=True)\n",
    "\n",
    "    decoded_summaries.append(summary_text)\n",
    "    decoded_targets.append(target_text)\n",
    "\n",
    "    print(\"Summary: \", summary_text)\n",
    "    print(\"Target: \", target_text,'\\n')"
   ]
  }
 ],
 "metadata": {
  "kernelspec": {
   "display_name": "cs7643-project",
   "language": "python",
   "name": "python3"
  },
  "language_info": {
   "codemirror_mode": {
    "name": "ipython",
    "version": 3
   },
   "file_extension": ".py",
   "mimetype": "text/x-python",
   "name": "python",
   "nbconvert_exporter": "python",
   "pygments_lexer": "ipython3",
   "version": "3.10.11"
  },
  "orig_nbformat": 4,
  "vscode": {
   "interpreter": {
    "hash": "f753c4d773f46fc5e3be46f2390136b27fbafb63fa9dcbc5e8a6cc66edb7238f"
   }
  }
 },
 "nbformat": 4,
 "nbformat_minor": 2
}
